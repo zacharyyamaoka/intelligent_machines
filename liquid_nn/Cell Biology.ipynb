{
 "cells": [
  {
   "cell_type": "markdown",
   "metadata": {},
   "source": [
    "\n",
    "Daniel Colon-Ramos (Yale/HHMI) 1: Cell biology of the synapse and behavior in C. elegans\n",
    "\n",
    "https://www.youtube.com/watch?v=7ldrRLh36rY&ab_channel=ScienceCommunicationLab\n"
   ]
  },
  {
   "cell_type": "markdown",
   "metadata": {},
   "source": [
    "Inate behaviours, what about inate rewards?\n",
    "\n",
    "Such a beuaitful example\n",
    "\n",
    "- Turtles when born, automitcally know how to walk and which way to go to the water\n",
    "- Each turtle however, needs to learn how to return to it's own beach. \"Cannot be hard wired ahead of time\"\n",
    "\n",
    "Undetsanding behvaiour by looking at motion. \n",
    "- C elegan's prefers to go to onside of the petri dish\n",
    "- Box jelly fish swims to certain side of tank\n",
    "\n",
    "For a robot? \n",
    "- How does it move? what does it do?\n"
   ]
  }
 ],
 "metadata": {
  "language_info": {
   "name": "python"
  }
 },
 "nbformat": 4,
 "nbformat_minor": 2
}
