{
 "cells": [
  {
   "cell_type": "markdown",
   "metadata": {},
   "source": [
    "We introduce a novel RNN that is formulated by computational models oringinally developed to explain the nevrous system of small specicies\n",
    "\n",
    "- I guess any neural network that maintains an internal state is a recurrent neural network, it seems that they will have the issue of back prop of gradients through time.\n",
    "- Using a more local optimization function could help with this though....\n",
    "\n",
    "What is a dynamic causal model?\n",
    "\n"
   ]
  },
  {
   "cell_type": "code",
   "execution_count": null,
   "metadata": {
    "vscode": {
     "languageId": "plaintext"
    }
   },
   "outputs": [],
   "source": [
    "Take a depth first approach, instead of breadth first!"
   ]
  },
  {
   "cell_type": "code",
   "execution_count": null,
   "metadata": {
    "vscode": {
     "languageId": "plaintext"
    }
   },
   "outputs": [],
   "source": [
    "This property enables neurons to express\n",
    "liquid time-constants dynamics and therefore allows the network to originate complex behaviors with a small number\n",
    "of neurons."
   ]
  }
 ],
 "metadata": {
  "language_info": {
   "name": "python"
  }
 },
 "nbformat": 4,
 "nbformat_minor": 2
}
