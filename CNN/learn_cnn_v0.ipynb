{
 "cells": [
  {
   "cell_type": "code",
   "execution_count": 25,
   "metadata": {},
   "outputs": [],
   "source": [
    "import torch\n",
    "import torch.nn as nn\n",
    "from torch.nn import functional as F\n",
    "\n",
    "from torchvision import datasets, transforms\n",
    "from torch.utils.data import Dataset, DataLoader\n",
    "\n",
    "from torchinfo import summary\n",
    "import numpy as np\n",
    "import matplotlib.pyplot as plt\n",
    "%matplotlib inline"
   ]
  },
  {
   "cell_type": "code",
   "execution_count": 2,
   "metadata": {},
   "outputs": [
    {
     "name": "stdout",
     "output_type": "stream",
     "text": [
      "torch.Size([60000, 28, 28])\n",
      "torch.Size([10000, 28, 28])\n"
     ]
    }
   ],
   "source": [
    "# Download training data from open datasets.\n",
    "training_data = datasets.MNIST(\n",
    "    root=\"/home/zach/intelligent_machines/data\",\n",
    "    train=True,\n",
    "    download=False,\n",
    "    transform=transforms.ToTensor(),\n",
    ")\n",
    "\n",
    "# Download test data from open datasets.\n",
    "test_data = datasets.MNIST(\n",
    "    root=\"/home/zach/intelligent_machines/data\",\n",
    "    train=False,\n",
    "    download=False,\n",
    "    transform=transforms.ToTensor(),\n",
    ")\n",
    "\n",
    "print(training_data.data.shape)\n",
    "print(test_data.data.shape)"
   ]
  },
  {
   "cell_type": "code",
   "execution_count": 3,
   "metadata": {},
   "outputs": [
    {
     "data": {
      "image/png": "[encoded data removed]",
      "text/plain": [
       "<Figure size 750x750 with 9 Axes>"
      ]
     },
     "metadata": {},
     "output_type": "display_data"
    },
    {
     "data": {
      "image/png": "[encoded data removed]",
      "text/plain": [
       "<Figure size 750x750 with 9 Axes>"
      ]
     },
     "metadata": {},
     "output_type": "display_data"
    }
   ],
   "source": [
    "labels_map = {\n",
    "    0: \"0\",\n",
    "    1: \"1\",\n",
    "    2: \"2\",\n",
    "    3: \"3\",\n",
    "    4: \"4\",\n",
    "    5: \"5\",\n",
    "    6: \"6\",\n",
    "    7: \"7\",\n",
    "    8: \"8\",\n",
    "    9: \"9\",\n",
    "}\n",
    "cols, rows = 3, 3\n",
    "\n",
    "# Store images and labels\n",
    "img_display = []\n",
    "\n",
    "for i in range(cols * rows):\n",
    "    sample_idx = torch.randint(len(training_data), size=(1,)).item()\n",
    "    img, label = training_data[sample_idx]\n",
    "    img_display.append((img, label))\n",
    "\n",
    "\n",
    "\n",
    "figure = plt.figure(figsize=(cols*2.5, rows*2.5))\n",
    "\n",
    "for i in range(cols * rows):\n",
    "    img, label = img_display[i]\n",
    "    figure.add_subplot(rows, cols, i+1)\n",
    "    # plt.title(labels_map[label])\n",
    "    plt.axis(\"off\")\n",
    "    plt.imshow(img.squeeze(), cmap=\"gray\")\n",
    "\n",
    "\n",
    "figure = plt.figure(figsize=(cols*2.5, rows*2.5))\n",
    "\n",
    "for i in range(cols * rows):\n",
    "    img, label = img_display[i]\n",
    "    figure.add_subplot(rows, cols, i+1)\n",
    "    plt.title(labels_map[label])\n",
    "    plt.axis(\"off\")\n",
    "    plt.imshow(img.squeeze(), cmap=\"gray\")\n",
    "\n",
    "plt.show()"
   ]
  },
  {
   "cell_type": "code",
   "execution_count": 4,
   "metadata": {},
   "outputs": [
    {
     "name": "stdout",
     "output_type": "stream",
     "text": [
      "Shape of X [N, C, H, W]: torch.Size([64, 1, 28, 28])\n",
      "Shape of y: torch.Size([64]) torch.int64\n"
     ]
    }
   ],
   "source": [
    "batch_size = 64\n",
    "\n",
    "# Create data loaders.\n",
    "train_dataloader = DataLoader(training_data, batch_size=batch_size)\n",
    "test_dataloader = DataLoader(test_data, batch_size=batch_size)\n",
    "\n",
    "for X, y in test_dataloader:\n",
    "    print(f\"Shape of X [N, C, H, W]: {X.shape}\")\n",
    "    print(f\"Shape of y: {y.shape} {y.dtype}\")\n",
    "    break"
   ]
  },
  {
   "cell_type": "code",
   "execution_count": 5,
   "metadata": {},
   "outputs": [
    {
     "name": "stdout",
     "output_type": "stream",
     "text": [
      "Using cuda device\n"
     ]
    }
   ],
   "source": [
    "device = torch.device(\"cuda\" if torch.cuda.is_available() else \"cpu\")\n",
    "print(f\"Using {device} device\")\n"
   ]
  },
  {
   "cell_type": "code",
   "execution_count": 6,
   "metadata": {},
   "outputs": [
    {
     "data": {
      "text/plain": [
       "==========================================================================================\n",
       "Layer (type:depth-idx)                   Output Shape              Param #\n",
       "==========================================================================================\n",
       "NeuralNetwork                            [64, 10]                  --\n",
       "├─Sequential: 1-1                        [64, 10]                  --\n",
       "│    └─Conv2d: 2-1                       [64, 3, 28, 28]           30\n",
       "│    └─ReLU: 2-2                         [64, 3, 28, 28]           --\n",
       "│    └─MaxPool2d: 2-3                    [64, 3, 14, 14]           --\n",
       "│    └─Flatten: 2-4                      [64, 588]                 --\n",
       "│    └─Linear: 2-5                       [64, 10]                  5,890\n",
       "==========================================================================================\n",
       "Total params: 5,920\n",
       "Trainable params: 5,920\n",
       "Non-trainable params: 0\n",
       "Total mult-adds (M): 1.88\n",
       "==========================================================================================\n",
       "Input size (MB): 0.20\n",
       "Forward/backward pass size (MB): 1.21\n",
       "Params size (MB): 0.02\n",
       "Estimated Total Size (MB): 1.43\n",
       "=========================================================================================="
      ]
     },
     "execution_count": 6,
     "metadata": {},
     "output_type": "execute_result"
    }
   ],
   "source": [
    "\n",
    "# Define model\n",
    "class NeuralNetwork(nn.Module):\n",
    "    def __init__(self):\n",
    "        super().__init__()\n",
    "        self.conv_stack = nn.Sequential(\n",
    "            nn.Conv2d(1, 3, kernel_size=3, stride=1, padding=1),\n",
    "            nn.ReLU(),\n",
    "            nn.MaxPool2d(kernel_size=2, stride=2),\n",
    "            nn.Flatten(),\n",
    "            nn.Linear(14 * 14 * 3, 10),\n",
    "        )\n",
    "\n",
    "    def forward(self, x):\n",
    "        logits = self.conv_stack(x)\n",
    "        return logits\n",
    "\n",
    "model = NeuralNetwork().to(device)\n",
    "# print(model)\n",
    "summary(model, input_size=(batch_size, 1, 28, 28))\n"
   ]
  },
  {
   "cell_type": "code",
   "execution_count": 59,
   "metadata": {},
   "outputs": [],
   "source": [
    "loss_fn = nn.CrossEntropyLoss()\n",
    "optimizer = torch.optim.SGD(model.parameters(), lr=1e-3)"
   ]
  },
  {
   "cell_type": "code",
   "execution_count": 60,
   "metadata": {},
   "outputs": [],
   "source": [
    "def train(dataloader, model, loss_fn, optimizer):\n",
    "    size = len(dataloader.dataset)\n",
    "    model.train()\n",
    "    for batch, (X, y) in enumerate(dataloader):\n",
    "        X, y = X.to(device), y.to(device)\n",
    "\n",
    "        # Compute prediction error\n",
    "        pred = model(X)\n",
    "        loss = loss_fn(pred, y)\n",
    "\n",
    "        # Backpropagation\n",
    "        loss.backward()\n",
    "        optimizer.step()\n",
    "        optimizer.zero_grad()\n",
    "\n",
    "        if batch % 100 == 0:\n",
    "            loss, current = loss.item(), (batch + 1) * len(X)\n",
    "            print(f\"loss: {loss:>7f}  [{current:>5d}/{size:>5d}]\")"
   ]
  },
  {
   "cell_type": "code",
   "execution_count": 61,
   "metadata": {},
   "outputs": [],
   "source": [
    "def test(dataloader, model, loss_fn):\n",
    "    size = len(dataloader.dataset)\n",
    "    num_batches = len(dataloader)\n",
    "    model.eval()\n",
    "    test_loss, correct = 0, 0\n",
    "    with torch.no_grad():\n",
    "        for X, y in dataloader:\n",
    "            X, y = X.to(device), y.to(device)\n",
    "            pred = model(X)\n",
    "            test_loss += loss_fn(pred, y).item()\n",
    "            correct += (pred.argmax(1) == y).type(torch.float).sum().item()\n",
    "    test_loss /= num_batches\n",
    "    correct /= size\n",
    "    print(f\"Test Error: \\n Accuracy: {(100*correct):>0.1f}%, Avg loss: {test_loss:>8f} \\n\")"
   ]
  },
  {
   "cell_type": "code",
   "execution_count": 62,
   "metadata": {},
   "outputs": [
    {
     "name": "stdout",
     "output_type": "stream",
     "text": [
      "Epoch 1\n",
      "-------------------------------\n",
      "loss: 2.303442  [   64/60000]\n",
      "loss: 2.300862  [ 6464/60000]\n",
      "loss: 2.300169  [12864/60000]\n",
      "loss: 2.293301  [19264/60000]\n",
      "loss: 2.288692  [25664/60000]\n",
      "loss: 2.290117  [32064/60000]\n",
      "loss: 2.288955  [38464/60000]\n",
      "loss: 2.279499  [44864/60000]\n",
      "loss: 2.274159  [51264/60000]\n",
      "loss: 2.264509  [57664/60000]\n",
      "Test Error: \n",
      " Accuracy: 37.0%, Avg loss: 2.258028 \n",
      "\n",
      "Epoch 2\n",
      "-------------------------------\n",
      "loss: 2.257524  [   64/60000]\n",
      "loss: 2.246404  [ 6464/60000]\n",
      "loss: 2.225631  [12864/60000]\n",
      "loss: 2.185876  [19264/60000]\n",
      "loss: 2.170447  [25664/60000]\n",
      "loss: 2.163673  [32064/60000]\n",
      "loss: 2.092680  [38464/60000]\n",
      "loss: 2.084276  [44864/60000]\n",
      "loss: 1.980191  [51264/60000]\n",
      "loss: 1.875841  [57664/60000]\n",
      "Test Error: \n",
      " Accuracy: 68.4%, Avg loss: 1.860284 \n",
      "\n",
      "Epoch 3\n",
      "-------------------------------\n",
      "loss: 1.875806  [   64/60000]\n",
      "loss: 1.748472  [ 6464/60000]\n",
      "loss: 1.645489  [12864/60000]\n",
      "loss: 1.473218  [19264/60000]\n",
      "loss: 1.379163  [25664/60000]\n",
      "loss: 1.332588  [32064/60000]\n",
      "loss: 1.107050  [38464/60000]\n",
      "loss: 1.234614  [44864/60000]\n",
      "loss: 1.049451  [51264/60000]\n",
      "loss: 0.951068  [57664/60000]\n",
      "Test Error: \n",
      " Accuracy: 82.5%, Avg loss: 0.899915 \n",
      "\n",
      "Epoch 4\n",
      "-------------------------------\n",
      "loss: 0.960424  [   64/60000]\n",
      "loss: 0.800924  [ 6464/60000]\n",
      "loss: 0.752930  [12864/60000]\n",
      "loss: 0.773005  [19264/60000]\n",
      "loss: 0.668763  [25664/60000]\n",
      "loss: 0.713615  [32064/60000]\n",
      "loss: 0.554152  [38464/60000]\n",
      "loss: 0.772101  [44864/60000]\n",
      "loss: 0.665167  [51264/60000]\n",
      "loss: 0.626482  [57664/60000]\n",
      "Test Error: \n",
      " Accuracy: 85.9%, Avg loss: 0.583269 \n",
      "\n",
      "Epoch 5\n",
      "-------------------------------\n",
      "loss: 0.631018  [   64/60000]\n",
      "loss: 0.544261  [ 6464/60000]\n",
      "loss: 0.484625  [12864/60000]\n",
      "loss: 0.596342  [19264/60000]\n",
      "loss: 0.475131  [25664/60000]\n",
      "loss: 0.544231  [32064/60000]\n",
      "loss: 0.404822  [38464/60000]\n",
      "loss: 0.628848  [44864/60000]\n",
      "loss: 0.537821  [51264/60000]\n",
      "loss: 0.526196  [57664/60000]\n",
      "Test Error: \n",
      " Accuracy: 87.5%, Avg loss: 0.478441 \n",
      "\n",
      "Done!\n"
     ]
    }
   ],
   "source": [
    "epochs = 5\n",
    "for t in range(epochs):\n",
    "    print(f\"Epoch {t+1}\\n-------------------------------\")\n",
    "    train(train_dataloader, model, loss_fn, optimizer)\n",
    "    test(test_dataloader, model, loss_fn)\n",
    "print(\"Done!\")"
   ]
  },
  {
   "cell_type": "code",
   "execution_count": 46,
   "metadata": {},
   "outputs": [
    {
     "name": "stdout",
     "output_type": "stream",
     "text": [
      "NeuralNetwork(\n",
      "  (conv_stack): Sequential(\n",
      "    (0): Conv2d(1, 3, kernel_size=(3, 3), stride=(1, 1), padding=(1, 1))\n",
      "    (1): ReLU()\n",
      "    (2): MaxPool2d(kernel_size=2, stride=2, padding=0, dilation=1, ceil_mode=False)\n",
      "    (3): Flatten(start_dim=1, end_dim=-1)\n",
      "    (4): Linear(in_features=588, out_features=10, bias=True)\n",
      "  )\n",
      ")\n"
     ]
    }
   ],
   "source": [
    "print(model)"
   ]
  },
  {
   "cell_type": "code",
   "execution_count": 63,
   "metadata": {},
   "outputs": [
    {
     "name": "stdout",
     "output_type": "stream",
     "text": [
      "{'': NeuralNetwork(\n",
      "  (conv_stack): Sequential(\n",
      "    (0): Conv2d(1, 3, kernel_size=(3, 3), stride=(1, 1), padding=(1, 1))\n",
      "    (1): ReLU()\n",
      "    (2): MaxPool2d(kernel_size=2, stride=2, padding=0, dilation=1, ceil_mode=False)\n",
      "    (3): Flatten(start_dim=1, end_dim=-1)\n",
      "    (4): Linear(in_features=588, out_features=10, bias=True)\n",
      "  )\n",
      "), 'conv_stack': Sequential(\n",
      "  (0): Conv2d(1, 3, kernel_size=(3, 3), stride=(1, 1), padding=(1, 1))\n",
      "  (1): ReLU()\n",
      "  (2): MaxPool2d(kernel_size=2, stride=2, padding=0, dilation=1, ceil_mode=False)\n",
      "  (3): Flatten(start_dim=1, end_dim=-1)\n",
      "  (4): Linear(in_features=588, out_features=10, bias=True)\n",
      "), 'conv_stack.0': Conv2d(1, 3, kernel_size=(3, 3), stride=(1, 1), padding=(1, 1)), 'conv_stack.1': ReLU(), 'conv_stack.2': MaxPool2d(kernel_size=2, stride=2, padding=0, dilation=1, ceil_mode=False), 'conv_stack.3': Flatten(start_dim=1, end_dim=-1), 'conv_stack.4': Linear(in_features=588, out_features=10, bias=True)}\n"
     ]
    }
   ],
   "source": [
    "print(dict(model.named_modules()))"
   ]
  },
  {
   "cell_type": "code",
   "execution_count": 8,
   "metadata": {},
   "outputs": [],
   "source": [
    "\n",
    "activation = {}\n",
    "\n",
    "def hook_fn(module, input, output):\n",
    "    activation[module] = output.detach()"
   ]
  },
  {
   "cell_type": "code",
   "execution_count": 9,
   "metadata": {},
   "outputs": [
    {
     "data": {
      "text/plain": [
       "<torch.utils.hooks.RemovableHandle at 0x72460b9e9c30>"
      ]
     },
     "execution_count": 9,
     "metadata": {},
     "output_type": "execute_result"
    }
   ],
   "source": [
    "model.conv_stack[1].register_forward_hook(hook_fn)"
   ]
  },
  {
   "cell_type": "code",
   "execution_count": null,
   "metadata": {},
   "outputs": [],
   "source": []
  },
  {
   "cell_type": "code",
   "execution_count": null,
   "metadata": {},
   "outputs": [],
   "source": []
  },
  {
   "cell_type": "code",
   "execution_count": 24,
   "metadata": {},
   "outputs": [
    {
     "name": "stdout",
     "output_type": "stream",
     "text": [
      "torch.Size([1, 1, 28, 28])\n",
      "Predicted: \"6\", Actual: \"2\"\n",
      "torch.Size([1, 3, 28, 28])\n"
     ]
    },
    {
     "data": {
      "image/png": "[encoded data removed]",
      "text/plain": [
       "<Figure size 1500x500 with 3 Axes>"
      ]
     },
     "metadata": {},
     "output_type": "display_data"
    }
   ],
   "source": [
    "model.eval()\n",
    "idx = torch.randint(0, len(test_data), (1,)).item()\n",
    "x, y = test_data[idx][0], test_data[idx][1]\n",
    "x = x.unsqueeze(0)\n",
    "print(x.shape)\n",
    "with torch.no_grad():\n",
    "    x = x.to(device)\n",
    "    pred = model(x)\n",
    "    predicted, actual = labels_map[pred[0].argmax(0).item()], labels_map[y]\n",
    "    print(f'Predicted: \"{predicted}\", Actual: \"{actual}\"')# print(activation[\"ReLU()\"])\n",
    "\n",
    "for key, item in activation.items():\n",
    "    print(item.shape)\n",
    "    act = item.squeeze(0) \n",
    "    print(act)\n",
    "\n",
    "    num_filters = min(8, act.shape[0])  # Display up to 8 filters\n",
    "    fig, axes = plt.subplots(1, num_filters, figsize=(15, 5))\n",
    "\n",
    "    for i in range(num_filters):\n",
    "        ax = axes[i]\n",
    "        ax.imshow(act[i].cpu().numpy(), cmap='viridis')\n",
    "        ax.axis(\"off\")\n",
    "\n",
    "    plt.show()\n"
   ]
  },
  {
   "cell_type": "code",
   "execution_count": 26,
   "metadata": {},
   "outputs": [
    {
     "data": {
      "image/png": "[encoded data removed]",
      "text/plain": [
       "<Figure size 1000x1000 with 4 Axes>"
      ]
     },
     "metadata": {},
     "output_type": "display_data"
    }
   ],
   "source": [
    "# Extract the first convolutional layer's weights\n",
    "layer = model.conv_stack[0]\n",
    "kernels = layer.weight.detach().cpu().numpy()  # Convert to NumPy\n",
    "\n",
    "# Normalize the kernel values for better visualization\n",
    "kernels = (kernels - kernels.min()) / (kernels.max() - kernels.min())\n",
    "\n",
    "# Determine the number of filters\n",
    "num_kernels = kernels.shape[0]  # Number of filters\n",
    "\n",
    "# Set up a grid for visualization\n",
    "rows = int(np.sqrt(num_kernels))\n",
    "cols = (num_kernels // rows) + 1\n",
    "\n",
    "fig, axes = plt.subplots(rows, cols, figsize=(10, 10))\n",
    "\n",
    "for i, ax in enumerate(axes.flat):\n",
    "    if i < num_kernels:\n",
    "        kernel = kernels[i]  # Select the i-th filter\n",
    "        kernel = np.transpose(kernel, (1, 2, 0))  # Change shape to (H, W, C)\n",
    "\n",
    "        # If the filter is grayscale (1 channel), remove extra dim\n",
    "        if kernel.shape[-1] == 1:\n",
    "            kernel = kernel[:, :, 0]\n",
    "\n",
    "        ax.imshow(kernel, cmap='gray' if kernel.ndim == 2 else None)\n",
    "        ax.axis('off')\n",
    "\n",
    "plt.show()"
   ]
  }
 ],
 "metadata": {
  "kernelspec": {
   "display_name": ".venv",
   "language": "python",
   "name": "python3"
  },
  "language_info": {
   "codemirror_mode": {
    "name": "ipython",
    "version": 3
   },
   "file_extension": ".py",
   "mimetype": "text/x-python",
   "name": "python",
   "nbconvert_exporter": "python",
   "pygments_lexer": "ipython3",
   "version": "3.10.12"
  }
 },
 "nbformat": 4,
 "nbformat_minor": 2
}
