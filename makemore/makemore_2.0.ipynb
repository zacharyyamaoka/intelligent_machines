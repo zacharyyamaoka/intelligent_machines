{
 "cells": [
  {
   "cell_type": "markdown",
   "metadata": {},
   "source": [
    "# Makemore P2\n",
    "\n",
    "bigram -> neural bigram -> MLP\n",
    "\n",
    "Everything stays the same. Optimization problem, trying to maximise the probability of the correct next character. We are going to make the neural network more complicated!"
   ]
  },
  {
   "cell_type": "code",
   "execution_count": 43,
   "metadata": {},
   "outputs": [],
   "source": [
    "import torch\n",
    "import torch.nn.functional as F\n",
    "\n",
    "import matplotlib.pyplot as plt\n",
    "%matplotlib inline\n",
    "generator = torch.Generator().manual_seed(2147483647)"
   ]
  },
  {
   "cell_type": "code",
   "execution_count": 5,
   "metadata": {},
   "outputs": [
    {
     "name": "stdout",
     "output_type": "stream",
     "text": [
      "['emma', 'olivia', 'ava', 'isabella', 'sophia', 'charlotte', 'mia', 'amelia', 'harper', 'evelyn']\n"
     ]
    }
   ],
   "source": [
    "words = open('names.txt', 'r').read().splitlines()\n",
    "print(words[:10])"
   ]
  },
  {
   "cell_type": "code",
   "execution_count": 6,
   "metadata": {},
   "outputs": [
    {
     "data": {
      "text/plain": [
       "{'a': 1,\n",
       " 'b': 2,\n",
       " 'c': 3,\n",
       " 'd': 4,\n",
       " 'e': 5,\n",
       " 'f': 6,\n",
       " 'g': 7,\n",
       " 'h': 8,\n",
       " 'i': 9,\n",
       " 'j': 10,\n",
       " 'k': 11,\n",
       " 'l': 12,\n",
       " 'm': 13,\n",
       " 'n': 14,\n",
       " 'o': 15,\n",
       " 'p': 16,\n",
       " 'q': 17,\n",
       " 'r': 18,\n",
       " 's': 19,\n",
       " 't': 20,\n",
       " 'u': 21,\n",
       " 'v': 22,\n",
       " 'w': 23,\n",
       " 'x': 24,\n",
       " 'y': 25,\n",
       " 'z': 26,\n",
       " '.': 0}"
      ]
     },
     "execution_count": 6,
     "metadata": {},
     "output_type": "execute_result"
    }
   ],
   "source": [
    "chars = sorted(list(set(\"\".join(words))))\n",
    "char_to_int = dict()\n",
    "\n",
    "for i in range (len(chars)):\n",
    "    char_to_int[chars[i]] = i + 1\n",
    "\n",
    "char_to_int[\".\"] = 0\n",
    "int_to_chars = [\".\"]+chars\n",
    "char_to_int"
   ]
  },
  {
   "cell_type": "code",
   "execution_count": 35,
   "metadata": {},
   "outputs": [
    {
     "name": "stdout",
     "output_type": "stream",
     "text": [
      "Num of examples:  67\n"
     ]
    }
   ],
   "source": [
    "# Prepare Dataset\n",
    "xs, ys = [], []\n",
    "\n",
    "for w in words[:10]:\n",
    "\n",
    "    chs = [\".\"] + [\".\"] + [\".\"] + list(w) + [\".\"]\n",
    "    for ch1, ch2, ch3, ch4 in zip(chs,chs[1:],chs[2:],chs[3:]):\n",
    "\n",
    "        ind1 = char_to_int[ch1]\n",
    "        ind2 = char_to_int[ch2]\n",
    "        ind3 = char_to_int[ch3]\n",
    "        ind4 = char_to_int[ch4]\n",
    "\n",
    "        xs.append([ind1,ind2,ind3])\n",
    "        ys.append(ind4)\n",
    "\n",
    "        # print(\"get {}{}{} pred {}\".format(ch1,ch2,ch3,ch4))\n",
    "\n",
    "xs = torch.tensor(xs)\n",
    "ys = torch.tensor(ys)\n",
    "num_examples = len(xs)\n",
    "print(\"Num of examples: \", num_examples)"
   ]
  },
  {
   "cell_type": "code",
   "execution_count": 36,
   "metadata": {},
   "outputs": [
    {
     "name": "stdout",
     "output_type": "stream",
     "text": [
      "When input is:  tensor([0, 0, 0])  output is:  5\n",
      "When input is:  tensor([0, 0, 5])  output is:  13\n",
      "When input is:  tensor([ 0,  5, 13])  output is:  13\n",
      "When input is:  tensor([ 5, 13, 13])  output is:  1\n",
      "When input is:  tensor([13, 13,  1])  output is:  0\n",
      "When input is:  tensor([0, 0, 0])  output is:  15\n",
      "When input is:  tensor([ 0,  0, 15])  output is:  12\n",
      "When input is:  tensor([ 0, 15, 12])  output is:  9\n",
      "When input is:  tensor([15, 12,  9])  output is:  22\n",
      "When input is:  tensor([12,  9, 22])  output is:  9\n"
     ]
    }
   ],
   "source": [
    "for x, y in zip(xs[:10], ys[:10]):\n",
    "    print(\"When input is: \", x, \" output is: \", y.item())\n"
   ]
  },
  {
   "cell_type": "code",
   "execution_count": 40,
   "metadata": {},
   "outputs": [],
   "source": [
    "vocab_size = 27\n",
    "context_length = 3\n",
    "embedding_size = 2\n",
    "W1_size = 100\n",
    "\n",
    "# Define Parameters\n",
    "C = torch.normal(mean=0,std=1, size=(vocab_size,embedding_size)) #init with small random numbers near zero\n",
    "W1 = torch.normal(mean=0,std=1, size=(context_length*embedding_size,W1_size))\n",
    "b1 = torch.normal(mean=0,std=1, size=(1,W1_size))\n",
    "W2 = torch.normal(mean=0,std=1, size=(W1_size,vocab_size))\n",
    "b2 = torch.normal(mean=0,std=1, size=(1,vocab_size))\n"
   ]
  },
  {
   "cell_type": "markdown",
   "metadata": {},
   "source": [
    "Cross Entropy Loss - https://en.wikipedia.org/wiki/Cross-entropy\n",
    "\n",
    "Imagine a probability distribution smeared across a discrete/continous space, I want to maximise the probability mass over the desired area.\n",
    "\n",
    "Probs are between 0 - 1. If we take the negative log of a prob, then it turns into into a very nice loss function we can minimise.\n",
    "\n",
    "Using the softmax function, we are able to take the output of a neural network, which can be +/- numbers, and turn them into a probability distribution \n",
    "\n",
    "One issue I have having is of numerical stability though. e^108 is a huge number.."
   ]
  },
  {
   "cell_type": "code",
   "execution_count": 22,
   "metadata": {},
   "outputs": [
    {
     "data": {
      "text/plain": [
       "tensor([54.5981])"
      ]
     },
     "execution_count": 22,
     "metadata": {},
     "output_type": "execute_result"
    }
   ],
   "source": [
    "torch.exp(torch.Tensor([4]))\n",
    "\n",
    "# Therefore, the value of e is equal to 2.71828 or e ≈ 2.72."
   ]
  },
  {
   "cell_type": "code",
   "execution_count": 25,
   "metadata": {},
   "outputs": [
    {
     "data": {
      "image/png": "[encoded data removed]",
      "text/plain": [
       "<Figure size 640x480 with 1 Axes>"
      ]
     },
     "metadata": {},
     "output_type": "display_data"
    }
   ],
   "source": [
    "x = torch.linspace(0, 20, 100)  # Create 100 points from 0 to 4\n",
    "\n",
    "# Compute e^x for each value of x\n",
    "y = torch.exp(x)\n",
    "\n",
    "# Plot the graph\n",
    "plt.plot(x.numpy(), y.numpy(), label='e^x')\n",
    "plt.xlabel('x')\n",
    "plt.ylabel('e^x')\n",
    "plt.title('Graph of e^x')\n",
    "plt.legend()\n",
    "plt.grid(True)\n",
    "plt.show()"
   ]
  },
  {
   "cell_type": "markdown",
   "metadata": {},
   "source": [
    "Andrej has some notes on this in CS231n\n",
    "\n",
    "https://cs231n.github.io/linear-classify/"
   ]
  },
  {
   "cell_type": "code",
   "execution_count": 65,
   "metadata": {},
   "outputs": [
    {
     "name": "stdout",
     "output_type": "stream",
     "text": [
      "tensor([-0.3468,  2.0272])\n",
      "torch.Size([1, 27]) torch.Size([27, 2])\n",
      "tensor([[-0.3468,  2.0272]])\n",
      "tensor([[-0.3468,  2.0272],\n",
      "        [-0.3468,  2.0272]])\n",
      "tensor([0, 0, 0])\n",
      "tensor([[-0.3468,  2.0272],\n",
      "        [-0.3468,  2.0272],\n",
      "        [-0.3468,  2.0272]])\n",
      "torch.Size([2, 3, 2])\n",
      "torch.Size([5, 3, 2])\n"
     ]
    }
   ],
   "source": [
    "# Different ways to do embedding\n",
    "\n",
    "#1 Indexing, as explained in paper\n",
    "print(C[0])\n",
    "\n",
    "# First layer in neural net with one hot enocded inputs\n",
    "xenc = F.one_hot(torch.arange(0, 1), num_classes=27).float()\n",
    "print(xenc.shape, C.shape)\n",
    "print(xenc @ C)\n",
    "\n",
    "# By Matrix/list\n",
    "print(C[[0,0]])\n",
    "\n",
    "print(xs[0])\n",
    "print(C[xs[0]])\n",
    "print(C[xs[:2]].shape)\n",
    "print(C[xs[:5]].shape)"
   ]
  },
  {
   "cell_type": "code",
   "execution_count": null,
   "metadata": {},
   "outputs": [],
   "source": []
  },
  {
   "cell_type": "code",
   "execution_count": 45,
   "metadata": {},
   "outputs": [
    {
     "name": "stdout",
     "output_type": "stream",
     "text": [
      "tensor([[ 29.0231, -14.0361,  11.9878,  13.5426, -54.7978,  31.5856,  12.1069,\n",
      "           9.1979, -16.6081,  -9.1634,  10.8570,   6.2493, -47.2183, -15.4378,\n",
      "         -16.3714, -19.5308, -11.9488,  45.3429,  -8.8162, -25.0450,   4.2826,\n",
      "         -11.0285, -32.3493,  -5.3225, -47.9451, -52.3404, -18.7610]])\n",
      "tensor([[ -16.3198,  -59.3790,  -33.3551,  -31.8003, -100.1407,  -13.7573,\n",
      "          -33.2360,  -36.1450,  -61.9510,  -54.5063,  -34.4859,  -39.0936,\n",
      "          -92.5612,  -60.7807,  -61.7143,  -64.8737,  -57.2917,    0.0000,\n",
      "          -54.1591,  -70.3879,  -41.0603,  -56.3714,  -77.6922,  -50.6654,\n",
      "          -93.2879,  -97.6833,  -64.1039]])\n",
      "tensor([[8.1732e-08, 1.6294e-26, 3.2662e-15, 1.5464e-14, 3.2230e-44, 1.0600e-06,\n",
      "         3.6794e-15, 2.0064e-16, 1.2446e-27, 2.1292e-24, 1.0543e-15, 1.0516e-17,\n",
      "         6.3267e-41, 4.0112e-27, 1.5770e-27, 6.6943e-29, 1.3138e-25, 1.0000e+00,\n",
      "         3.0130e-24, 2.6973e-31, 1.4715e-18, 3.2976e-25, 1.8143e-34, 9.9149e-23,\n",
      "         3.0589e-41, 3.7695e-43, 1.4456e-28]])\n",
      "5\n",
      "torch.Size([1, 27])\n",
      "tensor(1.0600e-06)\n",
      "tensor(13.7573)\n"
     ]
    }
   ],
   "source": [
    "# Forward Pass\n",
    "\n",
    "#one at a time\n",
    "\n",
    "\n",
    "for i in range(1):\n",
    "    x = xs[i]\n",
    "    x_embed = torch.cat((C[x[0]],C[x[1]],C[x[2]])).reshape(1,-1)\n",
    "    l1 = torch.max(x_embed @ W1 + b1, torch.tensor(0))\n",
    "    log_counts = l1 @ W2 + b2\n",
    "    print(log_counts)\n",
    "    log_counts -= torch.max(log_counts)\n",
    "    print(log_counts)\n",
    "    #softmax\n",
    "    counts = torch.exp(log_counts)\n",
    "    print(counts)\n",
    "    probs = counts/counts.sum()\n",
    "    y = ys[i].item()\n",
    "    print(y)\n",
    "    print(probs.shape)\n",
    "    class_probs = probs[0,y]\n",
    "    print(class_probs)\n",
    "    logprob = -torch.log(class_probs) #goes from +inf (p=0) to 0 (p=1)\n",
    "    print(logprob)\n",
    "\n",
    "# man... backprop is going to be a pain!!!"
   ]
  },
  {
   "cell_type": "markdown",
   "metadata": {},
   "source": [
    "Key Ideas is that we are going to learn the embeddings (is this a encoder v1?)\n",
    "\n",
    "Naively if you feed a=1, b=2, c=3 into the network, then there is a bias as a and b are similar. \n",
    "\n",
    "Instead we can represent each symbol as a point in n-dimensional space. and have the network learn what that point is. We would then expect conceptually similar symbols to be close in space!"
   ]
  },
  {
   "cell_type": "code",
   "execution_count": null,
   "metadata": {},
   "outputs": [],
   "source": []
  }
 ],
 "metadata": {
  "kernelspec": {
   "display_name": ".venv",
   "language": "python",
   "name": "python3"
  },
  "language_info": {
   "codemirror_mode": {
    "name": "ipython",
    "version": 3
   },
   "file_extension": ".py",
   "mimetype": "text/x-python",
   "name": "python",
   "nbconvert_exporter": "python",
   "pygments_lexer": "ipython3",
   "version": "3.10.12"
  }
 },
 "nbformat": 4,
 "nbformat_minor": 2
}
