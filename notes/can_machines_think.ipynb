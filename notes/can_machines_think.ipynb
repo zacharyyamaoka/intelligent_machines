{
 "cells": [
  {
   "cell_type": "markdown",
   "metadata": {},
   "source": [
    "# Can machines think?\n",
    "\n",
    "I belive that humans are ultimately made from atoms and that we could rearrange the atoms correctly we can make a human, or a machine that can \"think\" just like a human.a  What is programming? as it seems that that is what causes alot of intellgience? If everything is rearranging atoms? Well a program is ultiatetmly symbols in a computer, \n",
    "\n",
    "Is electricity atoms? No electircity is the flow of electrons in conductor.\n",
    "\n",
    "A von nueman computer is a very special arrangment of atoms, that allows for computation. Programming, a very high level way in order to arrange, many, many atoms on a lower level. \n",
    "\n",
    "Can a machine think? Yes, it's possible.\n",
    "\n",
    "Will we make machines that can think? We may, but I don't think it really matters. What we care about is the what not the how. Neuroscientist and for curoscanity, it may be interesting to know how the brain processes information, but captilism cares more about results IMO. \n",
    "\n",
    "I don't think anyone really knows how chat gbpt works, but we do care about what it can do, and I am told it works by AI. Artifhatical General intellgience is defined as making a machine that can do anything a human can do. Well, yes I think we can definetly achieve this. Will it be concious and self-aware? in the sense that we feel we have thoose things. 1, its suspect exactly what thoose things are, I don't think nessecaritly. \n",
    " \n",
    "I can imagine a program that can do everything a human can do, can do it better, but may not nessecarily be able to \"think\" in the way a human does. Perhaps this is what the quora user was saying about Searles Room\n",
    "\n",
    "https://www.quora.com/What-is-Searles-Chinese-Room-Argument-and-why-is-it-important-in-artificial-intelligence-research\n",
    "\n",
    "I would predict we will treat them, as a \"concious\" being if they act conciously, so me aspect of common sense, and \"awarness\" of what is happening around them. Even humans can go on \"auto pilot\" often. Yes I can imagine, we could fall in love with a robot.  \n",
    "\n",
    "I am assuming another human feels the same way as I do... which is a very interesting assumption.\n",
    "\n",
    "Concniousness is not a property but a \"state\". Somtimes I am concious, sometimes I am not. Children and elderly with dementia display very low levels of conciousness. The lights are on, but no one is home.\n",
    "\n",
    "Can we make a machine that is as intilligent as a human? \n",
    "- It can solve any problem a human can solve\n",
    "- It can design a robot to sort waste\n",
    "- It can sort waste\n",
    "- It can design and fabricate semi conductor chips\n",
    "\n",
    "Imagine a 3D printer with the intelligence of a human. What would it do? it could do anything.\n",
    "\n",
    "\n",
    "Imagine the samllest program that can think?\n",
    "\n",
    "A brick cannot provide shelter for a family, but if I put enough bricks together I can make a home\n",
    "A heating coil, metal, cablling, cannot cook a turkey, but if I put them together in just the right way, I can create an oven. Functionality is certain cases is discontinous. its not like, kinda good oven, better oven, great oven. It's like not an oven, an oven, and then better ovens. It's like a RELU function.\n",
    "\n",
    "Are there cases when it is continous? more of the same? Adding more metal, gets you more metal. \n",
    "\n",
    "Falsification and predicition. Carl popper"
   ]
  },
  {
   "cell_type": "markdown",
   "metadata": {},
   "source": []
  },
  {
   "cell_type": "markdown",
   "metadata": {},
   "source": []
  },
  {
   "cell_type": "markdown",
   "metadata": {},
   "source": []
  },
  {
   "cell_type": "markdown",
   "metadata": {},
   "source": []
  }
 ],
 "metadata": {
  "kernelspec": {
   "display_name": ".venv",
   "language": "python",
   "name": "python3"
  },
  "language_info": {
   "name": "python",
   "version": "3.10.12"
  }
 },
 "nbformat": 4,
 "nbformat_minor": 2
}
