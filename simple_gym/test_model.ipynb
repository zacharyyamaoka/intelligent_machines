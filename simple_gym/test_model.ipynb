{
 "cells": [
  {
   "cell_type": "code",
   "execution_count": 8,
   "metadata": {},
   "outputs": [
    {
     "name": "stdout",
     "output_type": "stream",
     "text": [
      "Action Space:  Discrete(2)\n",
      "Obs Space:  Box([-4.8000002e+00 -3.4028235e+38 -4.1887903e-01 -3.4028235e+38], [4.8000002e+00 3.4028235e+38 4.1887903e-01 3.4028235e+38], (4,), float32)\n"
     ]
    }
   ],
   "source": [
    "import gymnasium as gym\n",
    "import matplotlib.pyplot as plt\n",
    "%matplotlib inline\n",
    "from IPython.display import clear_output\n",
    "import torch\n",
    "import random\n",
    "\n",
    "env = gym.make('CartPole-v1', render_mode=\"human\")\n",
    "\n",
    "print(\"Action Space: \", env.action_space)\n",
    "print(\"Obs Space: \", env.observation_space)\n"
   ]
  },
  {
   "cell_type": "code",
   "execution_count": 9,
   "metadata": {},
   "outputs": [],
   "source": [
    "tensors = torch.load('model.pth')\n",
    "W1 = tensors['W1']\n",
    "b1 = tensors['b1']\n",
    "\n",
    "# Ensure tensors are of the correct dtype and on the correct device\n",
    "W1 = W1.float()\n",
    "b1 = b1.float()"
   ]
  },
  {
   "cell_type": "code",
   "execution_count": 10,
   "metadata": {},
   "outputs": [],
   "source": [
    "state, info = env.reset()\n",
    "action = random.choice([0, 1])\n",
    "\n",
    "for _ in range(100):\n",
    "\n",
    "    env.render()    \n",
    "\n",
    "    x = torch.zeros(size=(1,5)) # 4 obs, 1 action,\n",
    "    x[0,:4] = torch.tensor(state, dtype=torch.float32)\n",
    "    x[0,4] = torch.tensor([action], dtype=torch.float32)\n",
    "\n",
    "    #world time step\n",
    "    # action = env.action_space.sample()  # agent policy that uses the observation and info\n",
    "\n",
    "    y = x @ W1 + b1\n",
    "    p_action = torch.distributions.bernoulli.Bernoulli(torch.sigmoid(y))\n",
    "    action = int(p_action.sample().item())\n",
    "\n",
    "    state, reward, terminated, truncated, info = env.step(action)\n",
    "    if terminated or truncated:\n",
    "        state, info = env.reset()\n",
    "\n",
    "\n",
    "env.close()\n"
   ]
  },
  {
   "cell_type": "markdown",
   "metadata": {},
   "source": []
  },
  {
   "cell_type": "code",
   "execution_count": null,
   "metadata": {},
   "outputs": [],
   "source": []
  }
 ],
 "metadata": {
  "kernelspec": {
   "display_name": ".venv",
   "language": "python",
   "name": "python3"
  },
  "language_info": {
   "codemirror_mode": {
    "name": "ipython",
    "version": 3
   },
   "file_extension": ".py",
   "mimetype": "text/x-python",
   "name": "python",
   "nbconvert_exporter": "python",
   "pygments_lexer": "ipython3",
   "version": "3.10.12"
  }
 },
 "nbformat": 4,
 "nbformat_minor": 2
}
